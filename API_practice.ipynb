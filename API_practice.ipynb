{
 "cells": [
  {
   "cell_type": "code",
   "execution_count": 3,
   "id": "31cf839b",
   "metadata": {},
   "outputs": [],
   "source": [
    "# Create a practice set of random latitude and longitude combinations.\n",
    "x = [25.12903645, 25.92017388, 26.62509167, -59.98969384, 37.30571269]\n",
    "y = [-67.59741259, 11.09532135, 74.84233102, -76.89176677, -61.13376282]\n",
    "coordinates = zip(x, y)"
   ]
  },
  {
   "cell_type": "code",
   "execution_count": 4,
   "id": "1e8ae108",
   "metadata": {},
   "outputs": [
    {
     "name": "stdout",
     "output_type": "stream",
     "text": [
      "25.12903645 -67.59741259\n",
      "25.92017388 11.09532135\n",
      "26.62509167 74.84233102\n",
      "-59.98969384 -76.89176677\n",
      "37.30571269 -61.13376282\n"
     ]
    }
   ],
   "source": [
    "# Use the tuple() function to display the latitude and longitude combinations.\n",
    "for coordinate in coordinates:\n",
    "    print(coordinate[0], coordinate[1])"
   ]
  },
  {
   "cell_type": "code",
   "execution_count": 5,
   "id": "9e06c511",
   "metadata": {},
   "outputs": [],
   "source": [
    "# Use the citipy module to determine city based on latitude and longitude.\n",
    "from citipy import citipy"
   ]
  },
  {
   "cell_type": "code",
   "execution_count": 6,
   "id": "57b853dd",
   "metadata": {},
   "outputs": [],
   "source": [
    "# Use the tuple() function to display the latitude and longitude combinations.\n",
    "for coordinate in coordinates:\n",
    "    print(citipy.nearest_city(coordinate[0], coordinate[1]).city_name,\n",
    "          citipy.nearest_city(coordinate[0], coordinate[1]).country_code)"
   ]
  },
  {
   "cell_type": "code",
   "execution_count": 7,
   "id": "d0047137",
   "metadata": {},
   "outputs": [],
   "source": [
    "# Import the requests library.\n",
    "import requests\n",
    "\n",
    "# Import the API key.\n",
    "from config import weather_api_key"
   ]
  },
  {
   "cell_type": "code",
   "execution_count": 8,
   "id": "d134ce59",
   "metadata": {},
   "outputs": [],
   "source": [
    "# Starting URL for Weather Map API Call.\n",
    "url = \"http://api.openweathermap.org/data/2.5/weather?units=Imperial&APPID=\" + weather_api_key"
   ]
  },
  {
   "cell_type": "code",
   "execution_count": 9,
   "id": "1c1dc3ca",
   "metadata": {},
   "outputs": [],
   "source": [
    "# Create an endpoint URL for a city.\n",
    "city_url = url + \"&q=\" + \"Boston\""
   ]
  },
  {
   "cell_type": "code",
   "execution_count": 10,
   "id": "13ab59da",
   "metadata": {},
   "outputs": [
    {
     "data": {
      "text/plain": [
       "<Response [200]>"
      ]
     },
     "execution_count": 10,
     "metadata": {},
     "output_type": "execute_result"
    }
   ],
   "source": [
    "# Make a 'Get' request for the city weather.\n",
    "city_weather = requests.get(city_url)\n",
    "city_weather"
   ]
  },
  {
   "cell_type": "code",
   "execution_count": 11,
   "id": "4441d4f3",
   "metadata": {},
   "outputs": [
    {
     "data": {
      "text/plain": [
       "<Response [404]>"
      ]
     },
     "execution_count": 11,
     "metadata": {},
     "output_type": "execute_result"
    }
   ],
   "source": [
    "# Create an endpoint URL for a city.\n",
    "city_url = url + \"&q=\" + \"Bston\"\n",
    "city_weather = requests.get(city_url)\n",
    "city_weather"
   ]
  },
  {
   "cell_type": "code",
   "execution_count": 12,
   "id": "c3810944",
   "metadata": {},
   "outputs": [
    {
     "data": {
      "text/plain": [
       "<Response [200]>"
      ]
     },
     "execution_count": 12,
     "metadata": {},
     "output_type": "execute_result"
    }
   ],
   "source": [
    "# Create an endpoint URL for a city.\n",
    "city_url = url + \"&q=\" + \"Boston\"\n",
    "city_weather = requests.get(city_url)\n",
    "city_weather"
   ]
  },
  {
   "cell_type": "code",
   "execution_count": 12,
   "id": "8c0405ba",
   "metadata": {},
   "outputs": [
    {
     "data": {
      "text/plain": [
       "'{\"coord\":{\"lon\":-71.0598,\"lat\":42.3584},\"weather\":[{\"id\":300,\"main\":\"Drizzle\",\"description\":\"light intensity drizzle\",\"icon\":\"09n\"},{\"id\":701,\"main\":\"Mist\",\"description\":\"mist\",\"icon\":\"50n\"}],\"base\":\"stations\",\"main\":{\"temp\":41.81,\"feels_like\":34.16,\"temp_min\":39.02,\"temp_max\":44.53,\"pressure\":1009,\"humidity\":95},\"visibility\":2012,\"wind\":{\"speed\":15.01,\"deg\":0,\"gust\":0},\"clouds\":{\"all\":100},\"dt\":1648176641,\"sys\":{\"type\":2,\"id\":2013408,\"country\":\"US\",\"sunrise\":1648118433,\"sunset\":1648162819},\"timezone\":-14400,\"id\":4930956,\"name\":\"Boston\",\"cod\":200}'"
      ]
     },
     "execution_count": 12,
     "metadata": {},
     "output_type": "execute_result"
    }
   ],
   "source": [
    "# Get the text of the 'Get' request.\n",
    "city_weather.text"
   ]
  },
  {
   "cell_type": "code",
   "execution_count": 13,
   "id": "2d6256b6",
   "metadata": {},
   "outputs": [
    {
     "data": {
      "text/plain": [
       "{'coord': {'lon': -71.0598, 'lat': 42.3584},\n",
       " 'weather': [{'id': 300,\n",
       "   'main': 'Drizzle',\n",
       "   'description': 'light intensity drizzle',\n",
       "   'icon': '09n'},\n",
       "  {'id': 701, 'main': 'Mist', 'description': 'mist', 'icon': '50n'}],\n",
       " 'base': 'stations',\n",
       " 'main': {'temp': 41.81,\n",
       "  'feels_like': 34.16,\n",
       "  'temp_min': 39.02,\n",
       "  'temp_max': 44.53,\n",
       "  'pressure': 1009,\n",
       "  'humidity': 95},\n",
       " 'visibility': 2012,\n",
       " 'wind': {'speed': 15.01, 'deg': 0, 'gust': 0},\n",
       " 'clouds': {'all': 100},\n",
       " 'dt': 1648176641,\n",
       " 'sys': {'type': 2,\n",
       "  'id': 2013408,\n",
       "  'country': 'US',\n",
       "  'sunrise': 1648118433,\n",
       "  'sunset': 1648162819},\n",
       " 'timezone': -14400,\n",
       " 'id': 4930956,\n",
       " 'name': 'Boston',\n",
       " 'cod': 200}"
      ]
     },
     "execution_count": 13,
     "metadata": {},
     "output_type": "execute_result"
    }
   ],
   "source": [
    "# Get the JSON text of the 'Get' request.\n",
    "city_weather.json()"
   ]
  },
  {
   "cell_type": "code",
   "execution_count": 13,
   "id": "2a34da03",
   "metadata": {},
   "outputs": [
    {
     "name": "stdout",
     "output_type": "stream",
     "text": [
      "City Weather found.\n"
     ]
    }
   ],
   "source": [
    "# Create an endpoint URL for a city.\n",
    "city_url = url + \"&q=\" + \"Boston\"\n",
    "city_weather = requests.get(city_url)\n",
    "if city_weather.status_code == 200:\n",
    "    print(f\"City Weather found.\")\n",
    "else:\n",
    "    print(f\"City weather not found.\")"
   ]
  },
  {
   "cell_type": "code",
   "execution_count": 15,
   "id": "51747a99",
   "metadata": {},
   "outputs": [
    {
     "data": {
      "text/plain": [
       "{'coord': {'lon': -71.0598, 'lat': 42.3584},\n",
       " 'weather': [{'id': 802,\n",
       "   'main': 'Clouds',\n",
       "   'description': 'scattered clouds',\n",
       "   'icon': '03d'}],\n",
       " 'base': 'stations',\n",
       " 'main': {'temp': 63.77,\n",
       "  'feels_like': 61.39,\n",
       "  'temp_min': 60.03,\n",
       "  'temp_max': 67.5,\n",
       "  'pressure': 1025,\n",
       "  'humidity': 33},\n",
       " 'visibility': 10000,\n",
       " 'wind': {'speed': 21, 'deg': 0, 'gust': 24},\n",
       " 'clouds': {'all': 40},\n",
       " 'dt': 1650651807,\n",
       " 'sys': {'type': 2,\n",
       "  'id': 2013408,\n",
       "  'country': 'US',\n",
       "  'sunrise': 1650621131,\n",
       "  'sunset': 1650670375},\n",
       " 'timezone': -14400,\n",
       " 'id': 4930956,\n",
       " 'name': 'Boston',\n",
       " 'cod': 200}"
      ]
     },
     "execution_count": 15,
     "metadata": {},
     "output_type": "execute_result"
    }
   ],
   "source": [
    "# Create an endpoint URL for a city.\n",
    "city_url = url + \"&q=\" + \"Boston\"\n",
    "city_weather = requests.get(city_url)\n",
    "city_weather.json()"
   ]
  },
  {
   "cell_type": "code",
   "execution_count": 17,
   "id": "56c026b0",
   "metadata": {},
   "outputs": [],
   "source": [
    "# Get the JSON data.\n",
    "boston_data = city_weather.json()"
   ]
  },
  {
   "cell_type": "code",
   "execution_count": 18,
   "id": "838a8c13",
   "metadata": {},
   "outputs": [
    {
     "data": {
      "text/plain": [
       "{'type': 2,\n",
       " 'id': 2013408,\n",
       " 'country': 'US',\n",
       " 'sunrise': 1648118433,\n",
       " 'sunset': 1648162819}"
      ]
     },
     "execution_count": 18,
     "metadata": {},
     "output_type": "execute_result"
    }
   ],
   "source": [
    "boston_data[\"sys\"]"
   ]
  },
  {
   "cell_type": "code",
   "execution_count": 19,
   "id": "75b346bb",
   "metadata": {},
   "outputs": [
    {
     "data": {
      "text/plain": [
       "'US'"
      ]
     },
     "execution_count": 19,
     "metadata": {},
     "output_type": "execute_result"
    }
   ],
   "source": [
    "boston_data[\"sys\"][\"country\"]"
   ]
  },
  {
   "cell_type": "code",
   "execution_count": 20,
   "id": "71f7efd4",
   "metadata": {},
   "outputs": [
    {
     "name": "stdout",
     "output_type": "stream",
     "text": [
      "42.3584 -71.0598 44.53 95 100 15.01\n"
     ]
    }
   ],
   "source": [
    "lat = boston_data[\"coord\"][\"lat\"]\n",
    "lng = boston_data[\"coord\"][\"lon\"]\n",
    "max_temp = boston_data[\"main\"][\"temp_max\"]\n",
    "humidity = boston_data[\"main\"][\"humidity\"]\n",
    "clouds = boston_data[\"clouds\"][\"all\"]\n",
    "wind = boston_data[\"wind\"][\"speed\"]\n",
    "print(lat, lng, max_temp, humidity, clouds, wind)"
   ]
  },
  {
   "cell_type": "code",
   "execution_count": 21,
   "id": "e0c9bafa",
   "metadata": {},
   "outputs": [
    {
     "data": {
      "text/plain": [
       "datetime.datetime(2022, 3, 25, 2, 50, 41)"
      ]
     },
     "execution_count": 21,
     "metadata": {},
     "output_type": "execute_result"
    }
   ],
   "source": [
    "# Import the datetime module from the datetime library.\n",
    "from datetime import datetime\n",
    "# Get the date from the JSON file.\n",
    "date = boston_data[\"dt\"]\n",
    "# Convert the UTC date to a date format with year, month, day, hours, minutes, and seconds.\n",
    "datetime.utcfromtimestamp(date)"
   ]
  },
  {
   "cell_type": "code",
   "execution_count": 22,
   "id": "da3f39bb",
   "metadata": {},
   "outputs": [
    {
     "data": {
      "text/plain": [
       "'2022-03-25 02:50:41'"
      ]
     },
     "execution_count": 22,
     "metadata": {},
     "output_type": "execute_result"
    }
   ],
   "source": [
    "datetime.utcfromtimestamp(date).strftime('%Y-%m-%d %H:%M:%S')"
   ]
  },
  {
   "cell_type": "code",
   "execution_count": null,
   "id": "e02e0cc6",
   "metadata": {},
   "outputs": [],
   "source": []
  }
 ],
 "metadata": {
  "kernelspec": {
   "display_name": "PythonData",
   "language": "python",
   "name": "pythondata"
  },
  "language_info": {
   "codemirror_mode": {
    "name": "ipython",
    "version": 3
   },
   "file_extension": ".py",
   "mimetype": "text/x-python",
   "name": "python",
   "nbconvert_exporter": "python",
   "pygments_lexer": "ipython3",
   "version": "3.9.7"
  }
 },
 "nbformat": 4,
 "nbformat_minor": 5
}
